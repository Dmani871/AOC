{
 "cells": [
  {
   "cell_type": "code",
   "execution_count": 15,
   "metadata": {},
   "outputs": [
    {
     "data": {
      "text/html": [
       "<div>\n",
       "<style scoped>\n",
       "    .dataframe tbody tr th:only-of-type {\n",
       "        vertical-align: middle;\n",
       "    }\n",
       "\n",
       "    .dataframe tbody tr th {\n",
       "        vertical-align: top;\n",
       "    }\n",
       "\n",
       "    .dataframe thead th {\n",
       "        text-align: right;\n",
       "    }\n",
       "</style>\n",
       "<table border=\"1\" class=\"dataframe\">\n",
       "  <thead>\n",
       "    <tr style=\"text-align: right;\">\n",
       "      <th></th>\n",
       "      <th>0</th>\n",
       "      <th>1</th>\n",
       "    </tr>\n",
       "  </thead>\n",
       "  <tbody>\n",
       "    <tr>\n",
       "      <th>light red</th>\n",
       "      <td>bright white</td>\n",
       "      <td>muted yellow</td>\n",
       "    </tr>\n",
       "    <tr>\n",
       "      <th>dark orange</th>\n",
       "      <td>bright white</td>\n",
       "      <td>muted yellow</td>\n",
       "    </tr>\n",
       "    <tr>\n",
       "      <th>bright white</th>\n",
       "      <td>shiny gold</td>\n",
       "      <td>None</td>\n",
       "    </tr>\n",
       "    <tr>\n",
       "      <th>muted yellow</th>\n",
       "      <td>shiny gold</td>\n",
       "      <td>faded blue</td>\n",
       "    </tr>\n",
       "    <tr>\n",
       "      <th>shiny gold</th>\n",
       "      <td>dark olive</td>\n",
       "      <td>vibrant plum</td>\n",
       "    </tr>\n",
       "    <tr>\n",
       "      <th>dark olive</th>\n",
       "      <td>faded blue</td>\n",
       "      <td>dotted black</td>\n",
       "    </tr>\n",
       "    <tr>\n",
       "      <th>vibrant plum</th>\n",
       "      <td>faded blue</td>\n",
       "      <td>dotted black</td>\n",
       "    </tr>\n",
       "    <tr>\n",
       "      <th>faded blue</th>\n",
       "      <td>None</td>\n",
       "      <td>None</td>\n",
       "    </tr>\n",
       "    <tr>\n",
       "      <th>dotted black</th>\n",
       "      <td>None</td>\n",
       "      <td>None</td>\n",
       "    </tr>\n",
       "  </tbody>\n",
       "</table>\n",
       "</div>"
      ],
      "text/plain": [
       "                         0             1\n",
       "light red     bright white  muted yellow\n",
       "dark orange   bright white  muted yellow\n",
       "bright white    shiny gold          None\n",
       "muted yellow    shiny gold    faded blue\n",
       "shiny gold      dark olive  vibrant plum\n",
       "dark olive      faded blue  dotted black\n",
       "vibrant plum    faded blue  dotted black\n",
       "faded blue            None          None\n",
       "dotted black          None          None"
      ]
     },
     "metadata": {},
     "output_type": "display_data"
    }
   ],
   "source": [
    "import re\n",
    "import pandas as pd\n",
    "import re\n",
    "\n",
    "with open('rules.txt') as file:\n",
    "    rules={}\n",
    "    for line in file:\n",
    "        bag=re.search(r'([\\w]+\\s[\\w]+) bags',line)\n",
    "        contents=re.findall(r'\\d ([\\w]+\\s[\\w]+)',line)\n",
    "        rules[bag.group(1)]=contents\n",
    "\n",
    "\n",
    "\n",
    "pd.set_option('display.max_rows', None)\n",
    "pd.set_option('display.max_columns', None)\n",
    "f=pd.DataFrame.from_dict(rules,orient='index')\n",
    "display(f)\n"
   ]
  },
  {
   "cell_type": "code",
   "execution_count": null,
   "metadata": {},
   "outputs": [],
   "source": []
  }
 ],
 "metadata": {
  "kernelspec": {
   "display_name": "Python 3",
   "language": "python",
   "name": "python3"
  },
  "language_info": {
   "codemirror_mode": {
    "name": "ipython",
    "version": 3
   },
   "file_extension": ".py",
   "mimetype": "text/x-python",
   "name": "python",
   "nbconvert_exporter": "python",
   "pygments_lexer": "ipython3",
   "version": "3.9.1"
  }
 },
 "nbformat": 4,
 "nbformat_minor": 4
}
