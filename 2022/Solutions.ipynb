{
 "cells": [
  {
   "cell_type": "code",
   "execution_count": null,
   "id": "325ee607-60ae-4212-a472-d23715992795",
   "metadata": {},
   "outputs": [],
   "source": [
    "point_mapping = {'X':1,'Y':2,'Z':3}\n",
    "encryption_mapping ={'A':'X','B':'Y','C':'Z'}\n",
    "wining_combinations=[('Z','X'),('Y','Z'),('X','Y')]\n",
    "def score(input_tuple):\n",
    "    if any(input_tuple == item for item in wining_combinations):\n",
    "        return 6\n",
    "    elif input_tuple[1]==input_tuple[0]:\n",
    "        return 3\n",
    "    else:\n",
    "        return 0\n",
    "total=0\n",
    "with open(\"Day_2/strategy.txt\") as cal_file:\n",
    "    for line in cal_file:\n",
    "        i1,i2=line.split()\n",
    "        total+=score((encryption_mapping[i1],i2))\n",
    "        total+=point_mapping[i2]"
   ]
  },
  {
   "cell_type": "code",
   "execution_count": null,
   "id": "606d62e9-af3c-4914-915a-3233a5ff1a64",
   "metadata": {},
   "outputs": [],
   "source": [
    "total"
   ]
  },
  {
   "cell_type": "code",
   "execution_count": null,
   "id": "66775d2a-dbff-41cb-9a68-3aebfe3e9261",
   "metadata": {},
   "outputs": [],
   "source": []
  },
  {
   "cell_type": "code",
   "execution_count": null,
   "id": "a63e4adf-dc17-4201-a146-fdab4816a8dc",
   "metadata": {},
   "outputs": [],
   "source": [
    "point_mapping = {'A':1,'B':2,'C':3}\n",
    "wining_combinations=[('C','A'),('B','C'),('A','B')]\n",
    "def score(input_tuple):\n",
    "    if any(input_tuple == item for item in wining_combinations):\n",
    "        return 6\n",
    "    elif input_tuple[1]==input_tuple[0]:\n",
    "        return 3\n",
    "    else:\n",
    "        return 0\n",
    "total=0\n",
    "\n",
    "with open(\"Day_2/strategy.txt\") as cal_file:\n",
    "    for line in cal_file:\n",
    "        i1,i2=line.split()\n",
    "        sn=''\n",
    "        if i2=='Y':\n",
    "            sn=i1\n",
    "        else:\n",
    "            comb=get_losing_comb(i1)\n",
    "            if i2=='Z':\n",
    "                sn=comb[1]\n",
    "            else:\n",
    "                sn=\"ABC\".replace(i1, \"\").replace(comb[1], \"\")\n",
    "        total+=score((i1,sn)) \n",
    "        total+=point_mapping[sn]\n",
    "print(total)"
   ]
  },
  {
   "cell_type": "code",
   "execution_count": null,
   "id": "87f1b23a-d84d-4343-a5a6-97db7f399260",
   "metadata": {},
   "outputs": [],
   "source": [
    "total"
   ]
  },
  {
   "cell_type": "code",
   "execution_count": null,
   "id": "7f849eac-1edc-49f5-b669-04c34a55fa08",
   "metadata": {},
   "outputs": [],
   "source": [
    "A for Rock, B for Paper, and C for Scissors.\n",
    "+"
   ]
  },
  {
   "cell_type": "code",
   "execution_count": null,
   "id": "d746209b-1342-4624-8263-a967924f8965",
   "metadata": {},
   "outputs": [],
   "source": [
    "X means you need to lose, \n",
    "Y means you need to end the round in a draw,\n",
    "Z means you need to win. Good luck!\""
   ]
  },
  {
   "cell_type": "code",
   "execution_count": null,
   "id": "6b254bea-b674-43e8-a391-0e05f248bb8c",
   "metadata": {},
   "outputs": [],
   "source": [
    "to win\n",
    "get_losing_combination for char and pick"
   ]
  },
  {
   "cell_type": "code",
   "execution_count": null,
   "id": "ca278ecd-6c39-4dea-b625-467201b4712d",
   "metadata": {},
   "outputs": [],
   "source": []
  },
  {
   "cell_type": "code",
   "execution_count": null,
   "id": "61c823eb-aac3-4c60-affb-9301f8704609",
   "metadata": {},
   "outputs": [],
   "source": [
    "get_losing_comb('C')"
   ]
  },
  {
   "cell_type": "code",
   "execution_count": null,
   "id": "b3407668-4ca7-4f31-8076-da8f15280241",
   "metadata": {},
   "outputs": [],
   "source": [
    "\"ABC\".replace(\"A\", \"\").replace(\"C\", \"\")\n"
   ]
  },
  {
   "cell_type": "code",
   "execution_count": null,
   "id": "41e3fdd1-339f-4360-8e90-b4185f5b1da6",
   "metadata": {},
   "outputs": [],
   "source": [
    "with open(\"Day_1/cals.txt\", \"r\") as f:\n",
    "    data = f.read().split(\"\\n\\n\")\n",
    "    for item in data[0].splitlines():\n",
    "        print(item)\n",
    "    #data = [[int(item) for item in pack.splitlines()] for pack in data]\n",
    "    #data = [sum(pack) for pack in data]\n",
    "    #data = sorted(data)"
   ]
  },
  {
   "cell_type": "code",
   "execution_count": null,
   "id": "53e6f058-7b66-44d4-8095-6497bf4315ff",
   "metadata": {},
   "outputs": [],
   "source": [
    "x\n"
   ]
  },
  {
   "cell_type": "code",
   "execution_count": null,
   "id": "975e1207-6af6-4940-b97e-674d5a8d921f",
   "metadata": {},
   "outputs": [],
   "source": [
    "import string\n",
    "letters=list(string.ascii_letters)\n",
    "s=0\n",
    "with open(\"Inputs/day3.txt\", \"r\") as f:\n",
    "    badge=set()\n",
    "    for x,pack in enumerate(f):\n",
    "        if x%3==0:\n",
    "            try:\n",
    "                s+=letters.index(badge.pop())+1\n",
    "            except KeyError:\n",
    "                pass\n",
    "            badge=set(pack.strip())\n",
    "        badge=badge.intersection(set(pack.strip()))\n",
    "s+=letters.index(badge.pop())+1    "
   ]
  },
  {
   "cell_type": "code",
   "execution_count": null,
   "id": "b8c9a57a-83e6-453f-a735-e54230e6aee2",
   "metadata": {},
   "outputs": [],
   "source": [
    "s"
   ]
  },
  {
   "cell_type": "code",
   "execution_count": null,
   "id": "9f93c84b-dba1-49e4-8018-8f0b14e44646",
   "metadata": {},
   "outputs": [],
   "source": [
    "badge"
   ]
  },
  {
   "cell_type": "code",
   "execution_count": null,
   "id": "ffb5303f-978e-48f7-a38f-f6c671217d32",
   "metadata": {},
   "outputs": [],
   "source": [
    "letters=list(string.ascii_letters)\n",
    "s=0\n",
    "with open(\"Inputs/day3.txt\", \"r\") as f:\n",
    "    for pack in f:\n",
    "        middle_index = len(pack)//2\n",
    "        duplicate_char=set(pack[:middle_index]).intersection(set(pack[middle_index:]))\n",
    "        s+=letters.index(duplicate_char.pop())+1"
   ]
  },
  {
   "cell_type": "code",
   "execution_count": null,
   "id": "47114f46-735c-4109-abfa-c401f2c65e04",
   "metadata": {},
   "outputs": [],
   "source": [
    "g=set('1')"
   ]
  },
  {
   "cell_type": "code",
   "execution_count": null,
   "id": "a9068444-0c47-468e-b74b-3aa58faba052",
   "metadata": {},
   "outputs": [],
   "source": [
    "sum(g)"
   ]
  },
  {
   "cell_type": "code",
   "execution_count": null,
   "id": "3c843a45-fa8e-425c-bbe6-85c71b8e45a3",
   "metadata": {},
   "outputs": [],
   "source": [
    "sum=None"
   ]
  },
  {
   "cell_type": "code",
   "execution_count": null,
   "id": "144acabd-661d-4bf6-b255-eb7f54750652",
   "metadata": {},
   "outputs": [],
   "source": [
    "sum([1])"
   ]
  },
  {
   "cell_type": "code",
   "execution_count": null,
   "id": "32fa3401-eb76-42da-a385-91e2ebc13b0e",
   "metadata": {},
   "outputs": [],
   "source": [
    "c=\"is2 Thi1s T4est 3a\".split()"
   ]
  },
  {
   "cell_type": "code",
   "execution_count": null,
   "id": "b311bd83-28b2-4d40-866c-58efb3314058",
   "metadata": {},
   "outputs": [],
   "source": [
    "c"
   ]
  },
  {
   "cell_type": "code",
   "execution_count": null,
   "id": "540cefe3-e16a-413c-96fc-d86ed382db4a",
   "metadata": {},
   "outputs": [],
   "source": [
    "c.sort(key=lambda x:int(''.join(filter(str.isdigit, x))))"
   ]
  },
  {
   "cell_type": "code",
   "execution_count": null,
   "id": "573442a7-5b47-4136-b444-2ed3cb8dbaed",
   "metadata": {},
   "outputs": [],
   "source": [
    "' '.join(c)"
   ]
  },
  {
   "cell_type": "code",
   "execution_count": null,
   "id": "722c034b-47ee-4f5d-a971-50a29aa97f24",
   "metadata": {},
   "outputs": [],
   "source": [
    "cars = ['Ford', 'Mitsubishi', 'BMW', 'VW']\n",
    "\n",
    "cars.sort(key=len)"
   ]
  },
  {
   "cell_type": "code",
   "execution_count": null,
   "id": "6e697c45-fbad-4183-97eb-8b9bdd0faca8",
   "metadata": {},
   "outputs": [],
   "source": [
    "cars"
   ]
  },
  {
   "cell_type": "code",
   "execution_count": null,
   "id": "69646b51-172a-41e3-ac6e-0a787554ef81",
   "metadata": {},
   "outputs": [],
   "source": [
    "import re\n",
    "count=0\n",
    "count_x=0\n",
    "with open(\"Inputs/day4.txt\", \"r\") as f:\n",
    "    for pair in f:\n",
    "        s1_min,s1_max,s2_min,s2_max= re.split(',|-', pair.strip())\n",
    "        if (s1_min>=s2_min and s1_max<=s2_max) or (s2_min>=s1_min and s2_max<=s1_max):\n",
    "            count+=1\n",
    "        s1=set(range(int(s1_min),int(s1_max)+1))\n",
    "        s2=set(range(int(s2_min),int(s2_max)+1))\n",
    "        if (set(s1) <= set(s2)) or (set(s2) <= set(s1)):\n",
    "            count_x+=1\n",
    "        #print(list(set(s1).intersection(s2)))"
   ]
  },
  {
   "cell_type": "code",
   "execution_count": null,
   "id": "9c72722f-8795-4b11-ba03-ec7ab0d3accd",
   "metadata": {},
   "outputs": [],
   "source": [
    "count"
   ]
  },
  {
   "cell_type": "code",
   "execution_count": null,
   "id": "87ce0554-3af0-4d5d-b820-2f8163087a54",
   "metadata": {},
   "outputs": [],
   "source": [
    "count_x"
   ]
  },
  {
   "cell_type": "code",
   "execution_count": null,
   "id": "d333c4eb-1ff5-49bb-bc40-f80df3f942db",
   "metadata": {},
   "outputs": [],
   "source": [
    "import re\n",
    "count=0\n",
    "count_x=0\n",
    "with open(\"Inputs/day4.txt\", \"r\") as f:\n",
    "    for pair in f:\n",
    "        s1_min,s1_max,s2_min,s2_max= re.split(',|-', pair.strip())\n",
    "        s1=set(range(int(s1_min),int(s1_max)+1))\n",
    "        s2=set(range(int(s2_min),int(s2_max)+1))\n",
    "        if len(set(s1).intersection(s2)):\n",
    "            count_x+=1\n",
    "        #print(list(set(s1).intersection(s2)))"
   ]
  },
  {
   "cell_type": "code",
   "execution_count": null,
   "id": "177e81e8-2a47-4e14-aa83-f2829330f2ad",
   "metadata": {},
   "outputs": [],
   "source": [
    "count_x"
   ]
  },
  {
   "cell_type": "code",
   "execution_count": null,
   "id": "43ece417-f774-46d7-9ead-7e83d86a6cf8",
   "metadata": {},
   "outputs": [],
   "source": []
  },
  {
   "cell_type": "code",
   "execution_count": 1,
   "id": "db7f6f1f-3145-44f1-89cb-817fe982af59",
   "metadata": {},
   "outputs": [
    {
     "name": "stdout",
     "output_type": "stream",
     "text": [
      "NDP"
     ]
    }
   ],
   "source": [
    "import re\n",
    "from copy import deepcopy\n",
    "from collections import defaultdict\n",
    "stacks=defaultdict(list)\n",
    "instructions=[]\n",
    "def mover(in_stacks_dict,reverse=True):\n",
    "    stacks_dict=deepcopy(in_stacks_dict)\n",
    "    for i in instructions:\n",
    "        to_move=stacks_dict[i[1]][-i[0]:]\n",
    "        if reverse:\n",
    "            to_move.reverse()\n",
    "        stacks_dict[i[2]].extend(to_move)\n",
    "        stacks_dict[i[1]]=stacks_dict[i[1]][:-i[0]]\n",
    "    return stacks_dict\n",
    "def print_stacks_end(stacks):\n",
    "    for k in sorted(nstacks.keys()):\n",
    "        if nstacks[k]:\n",
    "            print(nstacks[k][-1],end='')\n",
    "    \n",
    "stack_regex = re.compile(\"[A-Z]\")\n",
    "with open(\"Inputs/day5.txt\", \"r\") as f:\n",
    "    for line in f:\n",
    "        intruction_regex = re.search(\"move ([\\d]+) from ([\\d]+) to ([\\d]+)\",line.strip(\"\\n\"))\n",
    "        if intruction_regex:\n",
    "            tuple_of_integers = tuple(map(int, intruction_regex.groups()))\n",
    "            instructions.append(tuple_of_integers)\n",
    "        else:\n",
    "            for m in stack_regex.finditer(line.strip(\"\\n\")):\n",
    "                stacks[m.start()].insert(0, m.group())\n",
    "                #print(m.start(),m.group())\n",
    "nstacks=defaultdict(list)\n",
    "for ind,k in enumerate(sorted(stacks.keys()),start=1):\n",
    "    nstacks[ind]=stacks[k]\n",
    "\n",
    "S1=mover(nstacks)\n",
    "#S2=mover(nstacks,False)\n",
    "print_stacks_end(S1)\n",
    "#print_stacks_end(S2)\n"
   ]
  },
  {
   "cell_type": "code",
   "execution_count": null,
   "id": "7f2fd3d7-a0d1-4b05-9739-f66b75f12303",
   "metadata": {},
   "outputs": [],
   "source": [
    "nstacks"
   ]
  },
  {
   "cell_type": "code",
   "execution_count": null,
   "id": "7a7f6cdf-2401-49b8-b953-17e108729a9e",
   "metadata": {},
   "outputs": [],
   "source": [
    "stacks"
   ]
  },
  {
   "cell_type": "code",
   "execution_count": null,
   "id": "7f84df26-d00e-4a70-8ff7-36552dcceb07",
   "metadata": {},
   "outputs": [],
   "source": [
    "p"
   ]
  },
  {
   "cell_type": "code",
   "execution_count": null,
   "id": "8a6d8cbf-eb4a-40ea-a39d-424d167aad42",
   "metadata": {},
   "outputs": [],
   "source": [
    "for k in sorted(nstacks.keys()):\n",
    "    try:\n",
    "        print(nstacks[k][-1],end='')\n",
    "    except IndexError:\n",
    "        print(\" \",end='')"
   ]
  },
  {
   "cell_type": "code",
   "execution_count": null,
   "id": "12227589-7372-46f9-9e0c-bcddaa7fcb63",
   "metadata": {},
   "outputs": [],
   "source": [
    "s=['Z', 'N']"
   ]
  },
  {
   "cell_type": "code",
   "execution_count": null,
   "id": "8b5d265a-2cc2-4e8e-a665-972687bf4342",
   "metadata": {},
   "outputs": [],
   "source": [
    "stacks"
   ]
  },
  {
   "cell_type": "code",
   "execution_count": null,
   "id": "48588e84-1665-4520-8002-fa0c511cc7fd",
   "metadata": {},
   "outputs": [],
   "source": [
    "s"
   ]
  },
  {
   "cell_type": "code",
   "execution_count": null,
   "id": "f46011e2-612b-4d2b-9f4f-cf57a4e78a75",
   "metadata": {},
   "outputs": [],
   "source": [
    "import sys\n",
    "from copy import deepcopy\n",
    "infile = sys.argv[1] if len(sys.argv)>1 else '5.in'\n",
    "data = open(\"Inputs/day5.txt\").read()\n",
    "lines = [x for x in data.split('\\n')]\n",
    "\n",
    "S = []\n",
    "cmds = []\n",
    "for line in lines:\n",
    "    if line == '':\n",
    "        break\n",
    "    sz = (len(line)+1)//4\n",
    "    while len(S) < sz:\n",
    "        S.append([])\n",
    "    for i in range(len(S)):\n",
    "        ch = line[1+4*i]\n",
    "        if ch != ' ' and 'A'<=ch<='Z':\n",
    "            S[i].append(ch)\n",
    "#print(S)\n",
    "\n",
    "S1 = deepcopy(S)\n",
    "S2 = deepcopy(S)\n",
    "found = False\n",
    "for cmd in lines:\n",
    "    if cmd == '':\n",
    "        found = True\n",
    "        continue\n",
    "    if not found:\n",
    "        continue\n",
    "    words = cmd.split()\n",
    "    qty = int(words[1])\n",
    "    from_ = int(words[3])-1\n",
    "    to_ = int(words[5])-1\n",
    "    for (ST, do_rev) in [(S1, True), (S2, False)]:\n",
    "        MOVE = ST[from_][:qty]\n",
    "        ST[from_] = ST[from_][qty:]\n",
    "        ST[to_] = (list(reversed(MOVE)) if do_rev else MOVE) + ST[to_]\n",
    "print(''.join([s[0] for s in S1 if len(s)>0]))\n",
    "print(''.join([s[0] for s in S2 if len(s)>0]))"
   ]
  },
  {
   "cell_type": "code",
   "execution_count": 27,
   "id": "e1c20cd0-c862-48fb-8686-471d6403d420",
   "metadata": {},
   "outputs": [],
   "source": [
    "data = open(\"Inputs/day6.txt\").read()\n",
    "lines = [x for x in data.split('\\n')]\n",
    "c=lines[0]"
   ]
  },
  {
   "cell_type": "code",
   "execution_count": 28,
   "id": "abe6f736-c553-4055-846a-7ac34bcd9360",
   "metadata": {},
   "outputs": [
    {
     "name": "stdout",
     "output_type": "stream",
     "text": [
      "qhts 1757\n"
     ]
    }
   ],
   "source": [
    "for x in range(len(c)):\n",
    "    if x>2:\n",
    "        if len(set(c[x-3:x+1]))==4:\n",
    "            print(c[x-3:x+1],x+1)\n",
    "            break\n",
    "        "
   ]
  },
  {
   "cell_type": "code",
   "execution_count": 38,
   "id": "69e32edb-e659-40e5-a9a6-fa8b98125822",
   "metadata": {},
   "outputs": [],
   "source": [
    "c=\"zcfzfwzzqfrljwzlrfnpqdbhtmscgvjw\""
   ]
  },
  {
   "cell_type": "code",
   "execution_count": 39,
   "id": "a528097b-806f-4f4b-9f3c-9a050a251ae3",
   "metadata": {},
   "outputs": [
    {
     "name": "stdout",
     "output_type": "stream",
     "text": [
      "jwzlrfnpqdbhtm 26\n"
     ]
    }
   ],
   "source": [
    "for x in range(len(c)):\n",
    "    if x>2:\n",
    "        if len(set(c[x-13:x+1]))==14:\n",
    "            print(c[x-13:x+1],x+1)\n",
    "            break"
   ]
  },
  {
   "cell_type": "code",
   "execution_count": 24,
   "id": "063651cb-be85-4699-8352-fe0dc0e6df32",
   "metadata": {},
   "outputs": [
    {
     "data": {
      "text/plain": [
       "1"
      ]
     },
     "execution_count": 24,
     "metadata": {},
     "output_type": "execute_result"
    }
   ],
   "source": [
    "len(lines)"
   ]
  },
  {
   "cell_type": "code",
   "execution_count": 189,
   "id": "e2eeb761-b39e-4cbc-bcf0-a5d85e8f1ba9",
   "metadata": {},
   "outputs": [],
   "source": [
    "from collections import defaultdict\n",
    "with open(\"Inputs/message.txt\", \"r\") as f:\n",
    "    cur_dir=\"\"\n",
    "    dirs_dict=defaultdict(list)\n",
    "    for l in f:\n",
    "        if l.startswith(\"$ cd\"):\n",
    "            \n",
    "            _,_,cd_arg=l.strip().split(\" \",3)\n",
    "            if cd_arg == '..':\n",
    "                d=cur_dir.split(\"/\")\n",
    "                if len(d)>3:\n",
    "                    cur_dir='/'.join(d[:-2])\n",
    "                    cur_dir+='/'\n",
    "                else:\n",
    "                    cur_dir='/'\n",
    "            elif cd_arg !='/':\n",
    "                cur_dir+=cd_arg+'/'\n",
    "            else:\n",
    "                cur_dir='/'\n",
    "        elif not l.startswith(\"$\"):\n",
    "            if l.startswith(\"dir\"):\n",
    "                dirs_dict[cur_dir].append(l.split()[-1])\n",
    "            else:\n",
    "                size,filename=l.strip().split(\" \",2)\n",
    "                dirs_dict[cur_dir].append((size,filename))"
   ]
  },
  {
   "cell_type": "code",
   "execution_count": null,
   "id": "dbcdb9e5-de70-4e9e-90c1-f5f61b254967",
   "metadata": {},
   "outputs": [],
   "source": []
  },
  {
   "cell_type": "code",
   "execution_count": 111,
   "id": "160c0043-b321-4769-a9ce-f133ca2f3c88",
   "metadata": {},
   "outputs": [
    {
     "data": {
      "text/plain": [
       "'ctztn/'"
      ]
     },
     "execution_count": 111,
     "metadata": {},
     "output_type": "execute_result"
    }
   ],
   "source": [
    "cur_dir"
   ]
  },
  {
   "cell_type": "code",
   "execution_count": 190,
   "id": "6e353931-df76-4baf-bbba-7465fafe062f",
   "metadata": {},
   "outputs": [
    {
     "name": "stdout",
     "output_type": "stream",
     "text": [
      "dict_keys(['/', '/hdwsmn/', '/hdwsmn/mrrqnc/', '/hdwsmn/qst/', '/hdwsmn/qst/lvs/', '/hdwsmn/rlfgcqz/', '/hdwsmn/rlfgcqz/hlltch/', '/hdwsmn/rlfgcqz/jqpnnmwc/', '/hdwsmn/rlfgcqz/jqpnnmwc/rlfgcqz/', '/hdwsmn/rlfgcqz/jqpnnmwc/rlfgcqz/wfnpcnr/', '/hdwsmn/rlfgcqz/jqpnnmwc/rlfgcqz/wfnpcnr/njsfs/', '/lmlsvqsw/', '/lmlsvqsw/mldg/', '/lmlsvqsw/mldg/rlfgcqz/', '/lmlsvqsw/mldg/rlfgcqz/dbvjfgff/', '/lmlsvqsw/mldg/rlfgcqz/dbvjfgff/rlfgcqz/', '/lmlsvqsw/mldg/rlfgcqz/dnnd/', '/lmlsvqsw/mldg/rlfgcqz/wcqpzpp/', '/rlfgcqz/', '/sjq/', '/tpnspw/', '/tpnspw/gcwq/', '/tpnspw/gcwq/bblss/', '/tpnspw/gcwq/hlmm/', '/tpnspw/lvvztw/', '/tpnspw/lvvztw/bdsvzhbm/', '/tpnspw/lvvztw/bdsvzhbm/jmmltt/', '/tpnspw/lvvztw/bdsvzhbm/zgcjl/', '/tpnspw/msrdg/', '/tpnspw/msrdg/wjp/', '/tpnspw/ncgljn/', '/tpnspw/ncgljn/bblss/', '/tpnspw/ncgljn/bblss/bblss/', '/tpnspw/ncgljn/bblss/njsfs/', '/tpnspw/ncgljn/bblss/njsfs/tjbrtt/', '/tpnspw/ncgljn/bblss/qgbg/', '/tpnspw/ncgljn/bblss/qgbg/dmcmw/', '/tpnspw/ncgljn/bblss/qgbg/dmcmw/ffqghmp/', '/tpnspw/ncgljn/bblss/qgbg/dmcmw/ffqghmp/wcqpzpp/', '/tpnspw/ncgljn/bblss/qgbg/dmcmw/ffqghmp/wcqpzpp/rfmsdjr/', '/tpnspw/ncgljn/bblss/qgbg/dmcmw/njsfs/', '/tpnspw/ncgljn/bblss/qgbg/dmcmw/njsfs/zvnjrnrw/', '/tpnspw/ncgljn/bblss/qgbg/gbpqj/', '/tpnspw/ncgljn/bblss/qgbg/wfvqv/', '/tpnspw/ncgljn/bblss/qgbg/wfvqv/fsq/', '/tpnspw/njsfs/', '/tpnspw/njsfs/bblss/', '/tpnspw/njsfs/bblss/dhmwcmf/', '/tpnspw/njsfs/bblss/dhmwcmf/qtdf/', '/tpnspw/njsfs/bblss/dhmwcmf/qtdf/fmbsgvr/', '/tpnspw/njsfs/bblss/dhmwcmf/scsllc/', '/tpnspw/njsfs/bblss/dhmwcmf/scsllc/brthfcm/', '/tpnspw/njsfs/bblss/dhmwcmf/scsllc/qqgh/', '/tpnspw/njsfs/bblss/dhmwcmf/scsllc/qqgh/njsfs/', '/tpnspw/njsfs/bblss/tcqnf/', '/tpnspw/njsfs/bblss/wjv/', '/tpnspw/njsfs/bblss/wjv/dtddhqbj/', '/tpnspw/njsfs/bblss/wjv/dtddhqbj/fmzhtfd/', '/tpnspw/njsfs/bblss/wjv/dtddhqbj/fmzhtfd/psqnghl/', '/tpnspw/njsfs/bblss/wjv/dtddhqbj/fmzhtfd/psqnghl/zlb/', '/tpnspw/njsfs/bblss/wjv/dtddhqbj/fmzhtfd/psqnghl/zlb/qgbg/', '/tpnspw/njsfs/bblss/wjv/dtddhqbj/gqsg/', '/tpnspw/njsfs/bblss/wjv/dtddhqbj/wcqpzpp/', '/tpnspw/njsfs/bblss/wjv/dtddhqbj/wcqpzpp/gfs/', '/tpnspw/njsfs/bblss/wjv/dtddhqbj/wcqpzpp/gfs/jrctzlg/', '/tpnspw/njsfs/bblss/wjv/dtddhqbj/wcqpzpp/gfs/lrnzq/', '/tpnspw/njsfs/bblss/wjv/dtddhqbj/wcqpzpp/gfs/wcqpzpp/', '/tpnspw/njsfs/bblss/wjv/dtddhqbj/wcqpzpp/qgbg/', '/tpnspw/njsfs/bblss/wjv/dtddhqbj/wcqpzpp/qgbg/cpr/', '/tpnspw/njsfs/bblss/wjv/dtddhqbj/wcqpzpp/qgbg/cpr/wznlzpzj/', '/tpnspw/njsfs/bblss/wjv/dtddhqbj/wcqpzpp/qgbg/cpr/wznlzpzj/bcwnrc/', '/tpnspw/njsfs/bblss/wjv/njsfs/', '/tpnspw/njsfs/bblss/wjv/pgfrd/', '/tpnspw/njsfs/bblss/wjv/pgfrd/slgztr/', '/tpnspw/njsfs/bblss/wjv/pgfrd/slgztr/htjd/', '/tpnspw/njsfs/bblss/wjv/pgfrd/slgztr/rlfgcqz/', '/tpnspw/njsfs/bblss/wjv/pgfrd/slgztr/wcqpzpp/', '/tpnspw/njsfs/bblss/wjv/shhzzrf/', '/tpnspw/njsfs/bblss/wjv/shhzzrf/hbp/', '/tpnspw/njsfs/bblss/wjv/shhzzrf/jqfhdn/', '/tpnspw/njsfs/bblss/wjv/shhzzrf/jqfhdn/njsfs/', '/tpnspw/njsfs/bblss/wjv/shhzzrf/jqfhdn/njsfs/tbjp/', '/tpnspw/njsfs/bblss/wjv/shhzzrf/jqfhdn/rlfgcqz/', '/tpnspw/njsfs/bblss/wjv/shhzzrf/qgbg/', '/tpnspw/njsfs/bblss/wjv/shhzzrf/qgbg/qnpdnjdl/', '/tpnspw/njsfs/bblss/wjv/shhzzrf/qgbg/qnpdnjdl/sblj/', '/tpnspw/njsfs/bblss/wjv/shhzzrf/qgbg/rdmj/', '/tpnspw/njsfs/bblss/wjv/shhzzrf/tftrnfpd/', '/tpnspw/njsfs/bblss/wjv/shhzzrf/tftrnfpd/nznzzw/', '/tpnspw/njsfs/bblss/wjv/shhzzrf/tftrnfpd/vlfdtwj/', '/tpnspw/njsfs/bblss/wjv/shhzzrf/tftrnfpd/vsvj/', '/tpnspw/njsfs/bblss/wjv/shhzzrf/tftrnfpd/vsvj/dfzcrmt/', '/tpnspw/njsfs/bblss/wjv/shhzzrf/tftrnfpd/vsvj/dfzcrmt/hqbthjc/', '/tpnspw/njsfs/bblss/wjv/shhzzrf/tftrnfpd/vsvj/dfzcrmt/hztrwjr/', '/tpnspw/njsfs/bblss/wjv/shhzzrf/tftrnfpd/vsvj/dfzcrmt/hztrwjr/zmpm/', '/tpnspw/njsfs/bblss/wjv/shhzzrf/tftrnfpd/vsvj/ffpvbczr/', '/tpnspw/njsfs/bblss/wjv/shhzzrf/tftrnfpd/vsvj/ffpvbczr/qdvppt/', '/tpnspw/njsfs/bblss/wjv/shhzzrf/tftrnfpd/vsvj/ffpvbczr/qgbg/', '/tpnspw/njsfs/bblss/wjv/shhzzrf/tftrnfpd/vsvj/rptmp/', '/tpnspw/njsfs/bblss/wjv/shhzzrf/tftrnfpd/wvnjtmt/', '/tpnspw/njsfs/bblss/wjv/shhzzrf/tftrnfpd/wvnjtmt/bblss/', '/tpnspw/njsfs/bblss/wjv/shhzzrf/tftrnfpd/wvnjtmt/gtbbfzzn/', '/tpnspw/njsfs/bblss/wjv/shhzzrf/tftrnfpd/wvnjtmt/wcqpzpp/', '/tpnspw/njsfs/bblss/wjv/shhzzrf/tftrnfpd/zlj/', '/tpnspw/njsfs/bblss/wjv/shhzzrf/tftrnfpd/zwqff/', '/tpnspw/njsfs/bblss/wjv/shhzzrf/tftrnfpd/zwqff/ghfc/', '/tpnspw/njsfs/bblss/wjv/shhzzrf/tftrnfpd/zwqff/njsfs/', '/tpnspw/njsfs/bblss/wjv/shhzzrf/zppjlf/', '/tpnspw/njsfs/bblss/zwlpqrb/', '/tpnspw/njsfs/bblss/zwlpqrb/lnhzzl/', '/tpnspw/njsfs/bblss/zwlpqrb/lnhzzl/dtwcsvzf/', '/tpnspw/njsfs/bzlpqv/', '/tpnspw/njsfs/cvm/', '/tpnspw/njsfs/cvm/wcqpzpp/', '/tpnspw/njsfs/cvm/wcqpzpp/rlfgcqz/', '/tpnspw/njsfs/dbbngm/', '/tpnspw/njsfs/dbbngm/bblss/', '/tpnspw/njsfs/dbbngm/rlfgcqz/', '/tpnspw/njsfs/gbtmsjgl/', '/tpnspw/ptncs/', '/tpnspw/ptncs/bmpts/', '/tpnspw/ptncs/bmpts/plbpr/', '/tpnspw/ptncs/bmpts/plbpr/wcqpzpp/', '/tpnspw/ptncs/bmpts/tvrvwv/', '/tpnspw/ptncs/bmpts/tvrvwv/tsgp/', '/tpnspw/ptncs/bpmf/', '/tpnspw/ptncs/bpmf/nhtjhsp/', '/tpnspw/ptncs/bpmf/qgbg/', '/tpnspw/ptncs/bpmf/sbqfdzh/', '/tpnspw/ptncs/bpmf/sbqfdzh/qgbg/', '/tpnspw/ptncs/bpmf/wcqpzpp/', '/tpnspw/ptncs/brhp/', '/tpnspw/ptncs/gzjppjfr/', '/tpnspw/ptncs/jrd/', '/tpnspw/ptncs/jrd/drjbp/', '/tpnspw/ptncs/jrd/drjbp/ccdmcgvz/', '/tpnspw/ptncs/jrd/drjbp/ccdmcgvz/njsfs/', '/tpnspw/ptncs/jrd/drjbp/ccdmcgvz/njsfs/bblss/', '/tpnspw/ptncs/jrd/njsfs/', '/tpnspw/ptncs/jrd/qfghvhsr/', '/tpnspw/ptncs/jrd/thf/', '/tpnspw/ptncs/jrd/thf/bzhbrlh/', '/tpnspw/ptncs/jrd/thf/qgbg/', '/tpnspw/ptncs/jrd/thf/qgbg/rrtb/', '/tpnspw/ptncs/jrd/thf/qgbg/slhbmldf/', '/tpnspw/ptncs/jrd/thf/qgbg/slhbmldf/vszhrc/', '/tpnspw/ptncs/prfz/', '/tpnspw/ptncs/prfz/bmfg/', '/tpnspw/ptncs/prfz/bmfg/bblss/', '/tpnspw/ptncs/prfz/bmfg/bblss/lddn/', '/tpnspw/ptncs/prfz/bmfg/bblss/lddn/mqlpwvcg/', '/tpnspw/ptncs/prfz/bsw/', '/tpnspw/ptncs/prfz/bsw/ljqv/', '/tpnspw/ptncs/prfz/bsw/vhpqbw/', '/tpnspw/ptncs/prfz/cfjdjcmt/', '/tpnspw/ptncs/prfz/nqrbhdcn/', '/tpnspw/ptncs/prfz/nqrbhdcn/bblss/', '/tpnspw/ptncs/prfz/nqrbhdcn/wcqpzpp/', '/tpnspw/ptncs/prfz/nqrbhdcn/wcqpzpp/lwt/', '/tpnspw/ptncs/prfz/nqrbhdcn/wcqpzpp/lwt/qvr/', '/tpnspw/ptncs/prfz/nqrbhdcn/wcqpzpp/lwt/qvr/ndqmn/', '/tpnspw/ptncs/prfz/nqrbhdcn/wcqpzpp/qgbg/', '/tpnspw/ptncs/prfz/nqrbhdcn/wcqpzpp/qgbg/pztf/', '/tpnspw/ptncs/prfz/nqrbhdcn/wcqpzpp/qgbg/pztf/njsfs/', '/tpnspw/ptncs/prfz/nqrbhdcn/wcqpzpp/qgbg/pztf/sfrbvhp/', '/tpnspw/ptncs/prfz/nqrbhdcn/wcqpzpp/qgbg/pztf/sfrbvhp/wcqpzpp/', '/tpnspw/ptncs/prfz/nqrbhdcn/wcqpzpp/qgbg/qgbg/', '/tpnspw/ptncs/prfz/nqrbhdcn/wcqpzpp/qgbg/rlfgcqz/', '/tpnspw/ptncs/prfz/nqrbhdcn/wcqpzpp/qgbg/zpvcn/', '/tpnspw/ptncs/prfz/nqrbhdcn/wcqpzpp/vswqzjc/', '/tpnspw/ptncs/prfz/nqrbhdcn/wcqpzpp/vswqzjc/qgbg/', '/tpnspw/ptncs/prfz/nqrbhdcn/wcqpzpp/vswqzjc/qgbg/wcqpzpp/', '/tpnspw/ptncs/prfz/nqrbhdcn/wcqpzpp/vswqzjc/rlfgcqz/', '/tpnspw/ptncs/prfz/nqrbhdcn/wcqpzpp/vswqzjc/rlfgcqz/dtwv/', '/tpnspw/ptncs/prfz/nqrbhdcn/wcqpzpp/vswqzjc/rlfgcqz/rfbrzf/', '/tpnspw/ptncs/prfz/nqrbhdcn/wvtnznjn/', '/tpnspw/ptncs/prfz/smdsrzlc/', '/tpnspw/ptncs/prfz/smdsrzlc/mbfqdbl/', '/tpnspw/ptncs/prfz/smdsrzlc/mbfqdbl/hrhc/', '/tpnspw/ptncs/qgbg/', '/tpnspw/ptncs/qjgchtwb/', '/tpnspw/ptncs/rvqrjms/', '/tpnspw/ptncs/vwgsmc/', '/tpnspw/ptncs/vwgsmc/qzl/', '/tpnspw/ptncs/vwgsmc/qzl/nvrpj/', '/tpnspw/ptncs/vwgsmc/qzl/nvrpj/vpscvbj/', '/tpnspw/ptncs/vwgsmc/qzl/thtq/', '/tpnspw/ptncs/vwgsmc/qzl/thtq/pqqhcl/', '/tpnspw/ptncs/vwgsmc/qzl/thtq/wclbp/', '/tpnspw/ptncs/vwgsmc/qzl/thtq/wclbp/djbbpzjz/', '/tpnspw/ptncs/vwgsmc/rlfgcqz/', '/tpnspw/ptncs/vwgsmc/rlfgcqz/njsfs/', '/tpnspw/ptncs/vwgsmc/tmpjd/', '/tpnspw/ptncs/vwgsmc/tmpjd/qgbg/', '/tpnspw/ptncs/vwgsmc/tmpjd/qgbg/wqfprrd/', '/tpnspw/ptncs/vwgsmc/tmpjd/qgbg/zjscb/', '/tpnspw/ptncs/vwgsmc/tmpjd/qgbg/zjscb/mlsdv/', '/tpnspw/ptncs/vwgsmc/tmpjd/qgbg/zjscb/njsfs/', '/tpnspw/ptncs/vwgsmc/tmpjd/qgbg/zjscb/njsfs/cfmfsbc/', '/tpnspw/ptncs/vwgsmc/tmpjd/sjlq/', '/tpnspw/ptncs/vwgsmc/tmpjd/zlbmf/', '/tpnspw/ptncs/vwgsmc/tmpjd/zlbmf/rcgvwrg/', '/tpnspw/ptncs/vwgsmc/vqt/'])\n"
     ]
    }
   ],
   "source": [
    "print(dirs_dict.keys())"
   ]
  },
  {
   "cell_type": "code",
   "execution_count": 185,
   "id": "68e70bb7-7131-4ad6-aadd-588082c60d3c",
   "metadata": {},
   "outputs": [],
   "source": [
    "def s(k,ds):\n",
    "    total=0\n",
    "    for node in ds:\n",
    "        if isinstance(node, tuple):\n",
    "            total+=int(node[0])\n",
    "        else:\n",
    "            kd=k+node+'/'\n",
    "            total+= s(kd,dirs_dict[kd])\n",
    "    return total"
   ]
  },
  {
   "cell_type": "code",
   "execution_count": 187,
   "id": "3ebfdc49-4637-41a2-9835-1ad93a9da626",
   "metadata": {},
   "outputs": [
    {
     "name": "stdout",
     "output_type": "stream",
     "text": [
      "/ 48690120\n",
      "/hdwsmn/ 1313106\n",
      "/hdwsmn/mrrqnc/ 227398\n",
      "/hdwsmn/qst/ 234608\n",
      "/hdwsmn/qst/lvs/ 81813\n",
      "/hdwsmn/rlfgcqz/ 851100\n",
      "/hdwsmn/rlfgcqz/hlltch/ 219753\n",
      "/hdwsmn/rlfgcqz/jqpnnmwc/ 631347\n",
      "/hdwsmn/rlfgcqz/jqpnnmwc/rlfgcqz/ 325293\n",
      "/hdwsmn/rlfgcqz/jqpnnmwc/rlfgcqz/wfnpcnr/ 46895\n",
      "/hdwsmn/rlfgcqz/jqpnnmwc/rlfgcqz/wfnpcnr/njsfs/ 46895\n",
      "/lmlsvqsw/ 1178617\n",
      "/lmlsvqsw/mldg/ 756481\n",
      "/lmlsvqsw/mldg/rlfgcqz/ 604241\n",
      "/lmlsvqsw/mldg/rlfgcqz/dbvjfgff/ 278899\n",
      "/lmlsvqsw/mldg/rlfgcqz/dbvjfgff/rlfgcqz/ 278899\n",
      "/lmlsvqsw/mldg/rlfgcqz/dnnd/ 17486\n",
      "/lmlsvqsw/mldg/rlfgcqz/wcqpzpp/ 195207\n",
      "/rlfgcqz/ 338274\n",
      "/sjq/ 48652\n",
      "/tpnspw/ 45811471\n",
      "/tpnspw/gcwq/ 1054712\n",
      "/tpnspw/gcwq/bblss/ 447009\n",
      "/tpnspw/gcwq/hlmm/ 607703\n",
      "/tpnspw/lvvztw/ 726589\n",
      "/tpnspw/lvvztw/bdsvzhbm/ 449233\n",
      "/tpnspw/lvvztw/bdsvzhbm/jmmltt/ 130686\n",
      "/tpnspw/lvvztw/bdsvzhbm/zgcjl/ 318547\n",
      "/tpnspw/msrdg/ 875607\n",
      "/tpnspw/msrdg/wjp/ 875607\n",
      "/tpnspw/ncgljn/ 4200628\n",
      "/tpnspw/ncgljn/bblss/ 3391112\n",
      "/tpnspw/ncgljn/bblss/bblss/ 186733\n",
      "/tpnspw/ncgljn/bblss/njsfs/ 284955\n",
      "/tpnspw/ncgljn/bblss/njsfs/tjbrtt/ 284955\n",
      "/tpnspw/ncgljn/bblss/qgbg/ 2551894\n",
      "/tpnspw/ncgljn/bblss/qgbg/dmcmw/ 1724439\n",
      "/tpnspw/ncgljn/bblss/qgbg/dmcmw/ffqghmp/ 291669\n",
      "/tpnspw/ncgljn/bblss/qgbg/dmcmw/ffqghmp/wcqpzpp/ 291669\n",
      "/tpnspw/ncgljn/bblss/qgbg/dmcmw/ffqghmp/wcqpzpp/rfmsdjr/ 291669\n",
      "/tpnspw/ncgljn/bblss/qgbg/dmcmw/njsfs/ 439280\n",
      "/tpnspw/ncgljn/bblss/qgbg/dmcmw/njsfs/zvnjrnrw/ 28990\n",
      "/tpnspw/ncgljn/bblss/qgbg/gbpqj/ 128158\n",
      "/tpnspw/ncgljn/bblss/qgbg/wfvqv/ 290347\n",
      "/tpnspw/ncgljn/bblss/qgbg/wfvqv/fsq/ 156862\n",
      "/tpnspw/njsfs/ 18683894\n",
      "/tpnspw/njsfs/bblss/ 15456338\n",
      "/tpnspw/njsfs/bblss/dhmwcmf/ 810520\n",
      "/tpnspw/njsfs/bblss/dhmwcmf/qtdf/ 111460\n",
      "/tpnspw/njsfs/bblss/dhmwcmf/qtdf/fmbsgvr/ 111460\n",
      "/tpnspw/njsfs/bblss/dhmwcmf/scsllc/ 699060\n",
      "/tpnspw/njsfs/bblss/dhmwcmf/scsllc/brthfcm/ 135591\n",
      "/tpnspw/njsfs/bblss/dhmwcmf/scsllc/qqgh/ 289243\n",
      "/tpnspw/njsfs/bblss/dhmwcmf/scsllc/qqgh/njsfs/ 18629\n",
      "/tpnspw/njsfs/bblss/tcqnf/ 610198\n",
      "/tpnspw/njsfs/bblss/wjv/ 12785886\n",
      "/tpnspw/njsfs/bblss/wjv/dtddhqbj/ 5262618\n",
      "/tpnspw/njsfs/bblss/wjv/dtddhqbj/fmzhtfd/ 1181885\n",
      "/tpnspw/njsfs/bblss/wjv/dtddhqbj/fmzhtfd/psqnghl/ 734611\n",
      "/tpnspw/njsfs/bblss/wjv/dtddhqbj/fmzhtfd/psqnghl/zlb/ 188576\n",
      "/tpnspw/njsfs/bblss/wjv/dtddhqbj/fmzhtfd/psqnghl/zlb/qgbg/ 188576\n",
      "/tpnspw/njsfs/bblss/wjv/dtddhqbj/gqsg/ 463703\n",
      "/tpnspw/njsfs/bblss/wjv/dtddhqbj/wcqpzpp/ 3580048\n",
      "/tpnspw/njsfs/bblss/wjv/dtddhqbj/wcqpzpp/gfs/ 1590709\n",
      "/tpnspw/njsfs/bblss/wjv/dtddhqbj/wcqpzpp/gfs/jrctzlg/ 293573\n",
      "/tpnspw/njsfs/bblss/wjv/dtddhqbj/wcqpzpp/gfs/lrnzq/ 526505\n",
      "/tpnspw/njsfs/bblss/wjv/dtddhqbj/wcqpzpp/gfs/wcqpzpp/ 365472\n",
      "/tpnspw/njsfs/bblss/wjv/dtddhqbj/wcqpzpp/qgbg/ 1135669\n",
      "/tpnspw/njsfs/bblss/wjv/dtddhqbj/wcqpzpp/qgbg/cpr/ 404545\n",
      "/tpnspw/njsfs/bblss/wjv/dtddhqbj/wcqpzpp/qgbg/cpr/wznlzpzj/ 289013\n",
      "/tpnspw/njsfs/bblss/wjv/dtddhqbj/wcqpzpp/qgbg/cpr/wznlzpzj/bcwnrc/ 289013\n",
      "/tpnspw/njsfs/bblss/wjv/njsfs/ 424282\n",
      "/tpnspw/njsfs/bblss/wjv/pgfrd/ 738711\n",
      "/tpnspw/njsfs/bblss/wjv/pgfrd/slgztr/ 738711\n",
      "/tpnspw/njsfs/bblss/wjv/pgfrd/slgztr/htjd/ 216650\n",
      "/tpnspw/njsfs/bblss/wjv/pgfrd/slgztr/rlfgcqz/ 144834\n",
      "/tpnspw/njsfs/bblss/wjv/pgfrd/slgztr/wcqpzpp/ 133476\n",
      "/tpnspw/njsfs/bblss/wjv/shhzzrf/ 6235296\n",
      "/tpnspw/njsfs/bblss/wjv/shhzzrf/hbp/ 455598\n",
      "/tpnspw/njsfs/bblss/wjv/shhzzrf/jqfhdn/ 1018050\n",
      "/tpnspw/njsfs/bblss/wjv/shhzzrf/jqfhdn/njsfs/ 383627\n",
      "/tpnspw/njsfs/bblss/wjv/shhzzrf/jqfhdn/njsfs/tbjp/ 76200\n",
      "/tpnspw/njsfs/bblss/wjv/shhzzrf/jqfhdn/rlfgcqz/ 294331\n",
      "/tpnspw/njsfs/bblss/wjv/shhzzrf/qgbg/ 255421\n",
      "/tpnspw/njsfs/bblss/wjv/shhzzrf/qgbg/qnpdnjdl/ 41456\n",
      "/tpnspw/njsfs/bblss/wjv/shhzzrf/qgbg/qnpdnjdl/sblj/ 41456\n",
      "/tpnspw/njsfs/bblss/wjv/shhzzrf/qgbg/rdmj/ 213965\n",
      "/tpnspw/njsfs/bblss/wjv/shhzzrf/tftrnfpd/ 4265051\n",
      "/tpnspw/njsfs/bblss/wjv/shhzzrf/tftrnfpd/nznzzw/ 115971\n",
      "/tpnspw/njsfs/bblss/wjv/shhzzrf/tftrnfpd/vlfdtwj/ 167648\n",
      "/tpnspw/njsfs/bblss/wjv/shhzzrf/tftrnfpd/vsvj/ 2366981\n",
      "/tpnspw/njsfs/bblss/wjv/shhzzrf/tftrnfpd/vsvj/dfzcrmt/ 1105541\n",
      "/tpnspw/njsfs/bblss/wjv/shhzzrf/tftrnfpd/vsvj/dfzcrmt/hqbthjc/ 542937\n",
      "/tpnspw/njsfs/bblss/wjv/shhzzrf/tftrnfpd/vsvj/dfzcrmt/hztrwjr/ 297930\n",
      "/tpnspw/njsfs/bblss/wjv/shhzzrf/tftrnfpd/vsvj/dfzcrmt/hztrwjr/zmpm/ 297930\n",
      "/tpnspw/njsfs/bblss/wjv/shhzzrf/tftrnfpd/vsvj/ffpvbczr/ 481827\n",
      "/tpnspw/njsfs/bblss/wjv/shhzzrf/tftrnfpd/vsvj/ffpvbczr/qdvppt/ 323419\n",
      "/tpnspw/njsfs/bblss/wjv/shhzzrf/tftrnfpd/vsvj/ffpvbczr/qgbg/ 158408\n",
      "/tpnspw/njsfs/bblss/wjv/shhzzrf/tftrnfpd/vsvj/rptmp/ 280342\n",
      "/tpnspw/njsfs/bblss/wjv/shhzzrf/tftrnfpd/wvnjtmt/ 379112\n",
      "/tpnspw/njsfs/bblss/wjv/shhzzrf/tftrnfpd/wvnjtmt/bblss/ 1570\n",
      "/tpnspw/njsfs/bblss/wjv/shhzzrf/tftrnfpd/wvnjtmt/gtbbfzzn/ 65850\n",
      "/tpnspw/njsfs/bblss/wjv/shhzzrf/tftrnfpd/wvnjtmt/wcqpzpp/ 62362\n",
      "/tpnspw/njsfs/bblss/wjv/shhzzrf/tftrnfpd/zlj/ 267677\n",
      "/tpnspw/njsfs/bblss/wjv/shhzzrf/tftrnfpd/zwqff/ 258366\n",
      "/tpnspw/njsfs/bblss/wjv/shhzzrf/tftrnfpd/zwqff/ghfc/ 131979\n",
      "/tpnspw/njsfs/bblss/wjv/shhzzrf/tftrnfpd/zwqff/njsfs/ 126387\n",
      "/tpnspw/njsfs/bblss/wjv/shhzzrf/zppjlf/ 241176\n",
      "/tpnspw/njsfs/bblss/zwlpqrb/ 817963\n",
      "/tpnspw/njsfs/bblss/zwlpqrb/lnhzzl/ 74858\n",
      "/tpnspw/njsfs/bblss/zwlpqrb/lnhzzl/dtwcsvzf/ 74858\n",
      "/tpnspw/njsfs/bzlpqv/ 743157\n",
      "/tpnspw/njsfs/cvm/ 1428131\n",
      "/tpnspw/njsfs/cvm/wcqpzpp/ 759217\n",
      "/tpnspw/njsfs/cvm/wcqpzpp/rlfgcqz/ 759217\n",
      "/tpnspw/njsfs/dbbngm/ 624404\n",
      "/tpnspw/njsfs/dbbngm/bblss/ 102201\n",
      "/tpnspw/njsfs/dbbngm/rlfgcqz/ 168752\n",
      "/tpnspw/njsfs/gbtmsjgl/ 207664\n",
      "/tpnspw/ptncs/ 19733115\n",
      "/tpnspw/ptncs/bmpts/ 993033\n",
      "/tpnspw/ptncs/bmpts/plbpr/ 56070\n",
      "/tpnspw/ptncs/bmpts/plbpr/wcqpzpp/ 18638\n",
      "/tpnspw/ptncs/bmpts/tvrvwv/ 141689\n",
      "/tpnspw/ptncs/bmpts/tvrvwv/tsgp/ 141689\n",
      "/tpnspw/ptncs/bpmf/ 2911304\n",
      "/tpnspw/ptncs/bpmf/nhtjhsp/ 225213\n",
      "/tpnspw/ptncs/bpmf/qgbg/ 770604\n",
      "/tpnspw/ptncs/bpmf/sbqfdzh/ 1166532\n",
      "/tpnspw/ptncs/bpmf/sbqfdzh/qgbg/ 628492\n",
      "/tpnspw/ptncs/bpmf/wcqpzpp/ 369505\n",
      "/tpnspw/ptncs/brhp/ 512051\n",
      "/tpnspw/ptncs/gzjppjfr/ 67036\n",
      "/tpnspw/ptncs/jrd/ 1885135\n",
      "/tpnspw/ptncs/jrd/drjbp/ 744254\n",
      "/tpnspw/ptncs/jrd/drjbp/ccdmcgvz/ 215649\n",
      "/tpnspw/ptncs/jrd/drjbp/ccdmcgvz/njsfs/ 180561\n",
      "/tpnspw/ptncs/jrd/drjbp/ccdmcgvz/njsfs/bblss/ 180561\n",
      "/tpnspw/ptncs/jrd/njsfs/ 150341\n",
      "/tpnspw/ptncs/jrd/qfghvhsr/ 3280\n",
      "/tpnspw/ptncs/jrd/thf/ 414439\n",
      "/tpnspw/ptncs/jrd/thf/bzhbrlh/ 148423\n",
      "/tpnspw/ptncs/jrd/thf/qgbg/ 266016\n",
      "/tpnspw/ptncs/jrd/thf/qgbg/rrtb/ 30387\n",
      "/tpnspw/ptncs/jrd/thf/qgbg/slhbmldf/ 235629\n",
      "/tpnspw/ptncs/jrd/thf/qgbg/slhbmldf/vszhrc/ 235629\n",
      "/tpnspw/ptncs/prfz/ 7209796\n",
      "/tpnspw/ptncs/prfz/bmfg/ 310328\n",
      "/tpnspw/ptncs/prfz/bmfg/bblss/ 34635\n",
      "/tpnspw/ptncs/prfz/bmfg/bblss/lddn/ 34635\n",
      "/tpnspw/ptncs/prfz/bmfg/bblss/lddn/mqlpwvcg/ 34635\n",
      "/tpnspw/ptncs/prfz/bsw/ 273724\n",
      "/tpnspw/ptncs/prfz/bsw/ljqv/ 119525\n",
      "/tpnspw/ptncs/prfz/bsw/vhpqbw/ 154199\n",
      "/tpnspw/ptncs/prfz/cfjdjcmt/ 22258\n",
      "/tpnspw/ptncs/prfz/nqrbhdcn/ 5618821\n",
      "/tpnspw/ptncs/prfz/nqrbhdcn/bblss/ 326048\n",
      "/tpnspw/ptncs/prfz/nqrbhdcn/wcqpzpp/ 4216051\n",
      "/tpnspw/ptncs/prfz/nqrbhdcn/wcqpzpp/lwt/ 953478\n",
      "/tpnspw/ptncs/prfz/nqrbhdcn/wcqpzpp/lwt/qvr/ 153880\n",
      "/tpnspw/ptncs/prfz/nqrbhdcn/wcqpzpp/lwt/qvr/ndqmn/ 153880\n",
      "/tpnspw/ptncs/prfz/nqrbhdcn/wcqpzpp/qgbg/ 1156663\n",
      "/tpnspw/ptncs/prfz/nqrbhdcn/wcqpzpp/qgbg/pztf/ 270638\n",
      "/tpnspw/ptncs/prfz/nqrbhdcn/wcqpzpp/qgbg/pztf/njsfs/ 268512\n",
      "/tpnspw/ptncs/prfz/nqrbhdcn/wcqpzpp/qgbg/pztf/sfrbvhp/ 2126\n",
      "/tpnspw/ptncs/prfz/nqrbhdcn/wcqpzpp/qgbg/pztf/sfrbvhp/wcqpzpp/ 2126\n",
      "/tpnspw/ptncs/prfz/nqrbhdcn/wcqpzpp/qgbg/qgbg/ 123331\n",
      "/tpnspw/ptncs/prfz/nqrbhdcn/wcqpzpp/qgbg/rlfgcqz/ 259421\n",
      "/tpnspw/ptncs/prfz/nqrbhdcn/wcqpzpp/qgbg/zpvcn/ 259119\n",
      "/tpnspw/ptncs/prfz/nqrbhdcn/wcqpzpp/vswqzjc/ 1411042\n",
      "/tpnspw/ptncs/prfz/nqrbhdcn/wcqpzpp/vswqzjc/qgbg/ 667704\n",
      "/tpnspw/ptncs/prfz/nqrbhdcn/wcqpzpp/vswqzjc/qgbg/wcqpzpp/ 296986\n",
      "/tpnspw/ptncs/prfz/nqrbhdcn/wcqpzpp/vswqzjc/rlfgcqz/ 743338\n",
      "/tpnspw/ptncs/prfz/nqrbhdcn/wcqpzpp/vswqzjc/rlfgcqz/dtwv/ 446621\n",
      "/tpnspw/ptncs/prfz/nqrbhdcn/wcqpzpp/vswqzjc/rlfgcqz/rfbrzf/ 96622\n",
      "/tpnspw/ptncs/prfz/nqrbhdcn/wvtnznjn/ 320558\n",
      "/tpnspw/ptncs/prfz/smdsrzlc/ 110162\n",
      "/tpnspw/ptncs/prfz/smdsrzlc/mbfqdbl/ 110162\n",
      "/tpnspw/ptncs/prfz/smdsrzlc/mbfqdbl/hrhc/ 110162\n",
      "/tpnspw/ptncs/qgbg/ 214890\n",
      "/tpnspw/ptncs/qjgchtwb/ 687018\n",
      "/tpnspw/ptncs/rvqrjms/ 40049\n",
      "/tpnspw/ptncs/vwgsmc/ 4529832\n",
      "/tpnspw/ptncs/vwgsmc/qzl/ 1334553\n",
      "/tpnspw/ptncs/vwgsmc/qzl/nvrpj/ 225620\n",
      "/tpnspw/ptncs/vwgsmc/qzl/nvrpj/vpscvbj/ 225620\n",
      "/tpnspw/ptncs/vwgsmc/qzl/thtq/ 464580\n",
      "/tpnspw/ptncs/vwgsmc/qzl/thtq/pqqhcl/ 123067\n",
      "/tpnspw/ptncs/vwgsmc/qzl/thtq/wclbp/ 5446\n",
      "/tpnspw/ptncs/vwgsmc/qzl/thtq/wclbp/djbbpzjz/ 5446\n",
      "/tpnspw/ptncs/vwgsmc/rlfgcqz/ 178834\n",
      "/tpnspw/ptncs/vwgsmc/rlfgcqz/njsfs/ 178834\n",
      "/tpnspw/ptncs/vwgsmc/tmpjd/ 2936182\n",
      "/tpnspw/ptncs/vwgsmc/tmpjd/qgbg/ 1984658\n",
      "/tpnspw/ptncs/vwgsmc/tmpjd/qgbg/wqfprrd/ 276417\n",
      "/tpnspw/ptncs/vwgsmc/tmpjd/qgbg/zjscb/ 762451\n",
      "/tpnspw/ptncs/vwgsmc/tmpjd/qgbg/zjscb/mlsdv/ 251030\n",
      "/tpnspw/ptncs/vwgsmc/tmpjd/qgbg/zjscb/njsfs/ 234880\n",
      "/tpnspw/ptncs/vwgsmc/tmpjd/qgbg/zjscb/njsfs/cfmfsbc/ 234880\n",
      "/tpnspw/ptncs/vwgsmc/tmpjd/sjlq/ 25547\n",
      "/tpnspw/ptncs/vwgsmc/tmpjd/zlbmf/ 41324\n",
      "/tpnspw/ptncs/vwgsmc/tmpjd/zlbmf/rcgvwrg/ 19512\n",
      "/tpnspw/ptncs/vwgsmc/vqt/ 80263\n"
     ]
    }
   ],
   "source": [
    "sum_total=0\n",
    "for k in dirs_dict.keys():\n",
    "    \n",
    "    print(k,s(k,dirs_dict[k]))\n",
    "    size=s(k,dirs_dict[k])\n",
    "    if size <=100000:\n",
    "        sum_total+=size\n",
    "        "
   ]
  },
  {
   "cell_type": "code",
   "execution_count": 191,
   "id": "44f81685-a829-464f-8859-3cac96142df1",
   "metadata": {},
   "outputs": [
    {
     "data": {
      "text/plain": [
       "1348005"
      ]
     },
     "execution_count": 191,
     "metadata": {},
     "output_type": "execute_result"
    }
   ],
   "source": [
    "sum_total"
   ]
  },
  {
   "cell_type": "code",
   "execution_count": 192,
   "id": "8331df96-d51b-4449-a40f-9a01935d84b9",
   "metadata": {},
   "outputs": [],
   "source": [
    "size=s('/',dirs_dict['/'])"
   ]
  },
  {
   "cell_type": "code",
   "execution_count": 193,
   "id": "d74d5957-1ba6-4c74-a866-7db1f5b130df",
   "metadata": {},
   "outputs": [
    {
     "data": {
      "text/plain": [
       "48690120"
      ]
     },
     "execution_count": 193,
     "metadata": {},
     "output_type": "execute_result"
    }
   ],
   "source": [
    "size"
   ]
  },
  {
   "cell_type": "code",
   "execution_count": 194,
   "id": "b7309270-cfed-4ab0-bf69-4a2a03e4be7d",
   "metadata": {},
   "outputs": [],
   "source": [
    "max_disk_space=70000000\n",
    "disk_space=s('/',dirs_dict['/'])\n",
    "to_free=30000000-(max_disk_space-disk_space)"
   ]
  },
  {
   "cell_type": "code",
   "execution_count": 195,
   "id": "35e2d7eb-844e-429c-bc7a-3cd78b9a0b94",
   "metadata": {},
   "outputs": [],
   "source": [
    "disk_spaces=[]\n",
    "for k in dirs_dict.keys():\n",
    "    size=s(k,dirs_dict[k])\n",
    "    if size >=to_free:\n",
    "        disk_spaces.append(size)"
   ]
  },
  {
   "cell_type": "code",
   "execution_count": 199,
   "id": "5a45a767-1354-4171-a236-cc0858c7a72f",
   "metadata": {},
   "outputs": [
    {
     "data": {
      "text/plain": [
       "12785886"
      ]
     },
     "execution_count": 199,
     "metadata": {},
     "output_type": "execute_result"
    }
   ],
   "source": [
    "sorted(disk_spaces)[0]"
   ]
  },
  {
   "cell_type": "code",
   "execution_count": 200,
   "id": "c9964522-c84b-43e7-a6ab-ddf9871cc1b1",
   "metadata": {},
   "outputs": [
    {
     "data": {
      "text/plain": [
       "8690120"
      ]
     },
     "execution_count": 200,
     "metadata": {},
     "output_type": "execute_result"
    }
   ],
   "source": [
    "to_free"
   ]
  },
  {
   "cell_type": "code",
   "execution_count": 198,
   "id": "a2f5bac2-1167-48f1-8559-f8fc6e85900d",
   "metadata": {},
   "outputs": [
    {
     "data": {
      "text/plain": [
       "48690120"
      ]
     },
     "execution_count": 198,
     "metadata": {},
     "output_type": "execute_result"
    }
   ],
   "source": [
    "disk_space"
   ]
  },
  {
   "cell_type": "code",
   "execution_count": null,
   "id": "7371d7c1-1c1d-4bec-967c-354ad01a2918",
   "metadata": {},
   "outputs": [],
   "source": []
  }
 ],
 "metadata": {
  "kernelspec": {
   "display_name": "Python 3 (ipykernel)",
   "language": "python",
   "name": "python3"
  },
  "language_info": {
   "codemirror_mode": {
    "name": "ipython",
    "version": 3
   },
   "file_extension": ".py",
   "mimetype": "text/x-python",
   "name": "python",
   "nbconvert_exporter": "python",
   "pygments_lexer": "ipython3",
   "version": "3.9.13"
  }
 },
 "nbformat": 4,
 "nbformat_minor": 5
}
